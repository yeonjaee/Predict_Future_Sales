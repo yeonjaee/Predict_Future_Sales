{
 "cells": [
  {
   "cell_type": "code",
   "execution_count": 9,
   "id": "231ffb5b",
   "metadata": {},
   "outputs": [],
   "source": [
    "import lightgbm as lgb\n",
    "\n",
    "from sklearn.decomposition import PCA\n",
    "import math\n",
    "import pandas as pd\n",
    "import numpy as np\n",
    "from sklearn.metrics import mean_squared_error, r2_score\n",
    "import seaborn as sns\n",
    "import matplotlib.pyplot as plt\n",
    "import pickle\n",
    "\n",
    "import os\n",
    "from os.path import join"
   ]
  },
  {
   "cell_type": "markdown",
   "id": "4d5a4c4b",
   "metadata": {},
   "source": [
    "# 1. 데이터 불러오기"
   ]
  },
  {
   "cell_type": "markdown",
   "id": "0f743a1b",
   "metadata": {},
   "source": [
    "- LGBM으로 여러 테스트를 거친 결과 마지막 전처리 데이터 중 roberst 기법을 사용한 데이터에서 몇 컬럼을 누락하여 PCA를 적용한 데이터가 성능이 좋아 해당 데이터로 사용을 하였음."
   ]
  },
  {
   "cell_type": "code",
   "execution_count": 10,
   "id": "c822d05f",
   "metadata": {},
   "outputs": [
    {
     "name": "stdout",
     "output_type": "stream",
     "text": [
      "28680 214200\n",
      "valid range: 242880\n",
      "test range: 214200\n"
     ]
    }
   ],
   "source": [
    "dpath = './data'\n",
    "fname = 'lgbm_roberst'\n",
    "ftrain = fname + '_train.pickle'\n",
    "ftest = fname + '_test.pickle'\n",
    "\n",
    "df_train = pd.read_pickle(join(dpath, ftrain))\n",
    "df_test = pd.read_pickle(join(dpath, ftest))\n",
    "\n",
    "merge = pd.concat([df_train, df_test], axis=0, ignore_index=True)\n",
    "merge_x = merge.drop(columns='item_cnt_month')\n",
    "merge_y = merge[['item_cnt_month']]\n",
    "\n",
    "print(len(df_train.loc[df_train.date_block_num == 33]), len(df_test))\n",
    "print('valid range:', 28680+214200)\n",
    "print('test range:', 214200)"
   ]
  },
  {
   "cell_type": "markdown",
   "id": "8dbc7db8",
   "metadata": {},
   "source": [
    "- 데이터에 사용된 컬럼은 다음과 같음."
   ]
  },
  {
   "cell_type": "code",
   "execution_count": 16,
   "id": "6377ff79",
   "metadata": {},
   "outputs": [
    {
     "data": {
      "text/plain": [
       "Index(['date_block_num', 'shop_id', 'item_id', 'item_cnt_month', 'item_price',\n",
       "       'item_avg_item_price', 'date_item_avg_item_price',\n",
       "       'date_item_avg_item_price_lag_1', 'date_item_avg_item_price_lag_2',\n",
       "       'date_item_avg_item_price_lag_3', 'delta_price_lag_1',\n",
       "       'delta_price_lag_2', 'delta_price_lag_3', 'month',\n",
       "       'item_cnt_month_lag_1', 'item_cnt_month_lag_2', 'item_cnt_month_lag_3',\n",
       "       'item_price_lag_1', 'item_price_lag_2', 'item_price_lag_3', 'capital',\n",
       "       'non_capital', 'city_etc', 'shopping_mall', 'online_mall',\n",
       "       'computer_mall', 'type_etc'],\n",
       "      dtype='object')"
      ]
     },
     "execution_count": 16,
     "metadata": {},
     "output_type": "execute_result"
    }
   ],
   "source": [
    "df_train.columns"
   ]
  },
  {
   "cell_type": "markdown",
   "id": "5087b6b8",
   "metadata": {},
   "source": [
    "# 2. PCA"
   ]
  },
  {
   "cell_type": "markdown",
   "id": "9d86bbcd",
   "metadata": {},
   "source": [
    "- 해당 데이터의 차원축소를 위해 지정된 차원 수는 5로 하였음."
   ]
  },
  {
   "cell_type": "code",
   "execution_count": 12,
   "id": "cbdc3987",
   "metadata": {},
   "outputs": [
    {
     "data": {
      "text/html": [
       "<div>\n",
       "<style scoped>\n",
       "    .dataframe tbody tr th:only-of-type {\n",
       "        vertical-align: middle;\n",
       "    }\n",
       "\n",
       "    .dataframe tbody tr th {\n",
       "        vertical-align: top;\n",
       "    }\n",
       "\n",
       "    .dataframe thead th {\n",
       "        text-align: right;\n",
       "    }\n",
       "</style>\n",
       "<table border=\"1\" class=\"dataframe\">\n",
       "  <thead>\n",
       "    <tr style=\"text-align: right;\">\n",
       "      <th></th>\n",
       "      <th>1</th>\n",
       "      <th>2</th>\n",
       "      <th>3</th>\n",
       "      <th>4</th>\n",
       "      <th>5</th>\n",
       "    </tr>\n",
       "  </thead>\n",
       "  <tbody>\n",
       "    <tr>\n",
       "      <th>0</th>\n",
       "      <td>-10260.207724</td>\n",
       "      <td>29.469094</td>\n",
       "      <td>20.718112</td>\n",
       "      <td>-2.044290</td>\n",
       "      <td>1.136570</td>\n",
       "    </tr>\n",
       "    <tr>\n",
       "      <th>1</th>\n",
       "      <td>-9827.207345</td>\n",
       "      <td>29.487248</td>\n",
       "      <td>20.520595</td>\n",
       "      <td>-4.665327</td>\n",
       "      <td>0.072656</td>\n",
       "    </tr>\n",
       "    <tr>\n",
       "      <th>2</th>\n",
       "      <td>-9809.209699</td>\n",
       "      <td>29.518942</td>\n",
       "      <td>21.534277</td>\n",
       "      <td>13.547727</td>\n",
       "      <td>-1.216789</td>\n",
       "    </tr>\n",
       "    <tr>\n",
       "      <th>3</th>\n",
       "      <td>-9456.209600</td>\n",
       "      <td>29.537576</td>\n",
       "      <td>21.501721</td>\n",
       "      <td>12.752132</td>\n",
       "      <td>8.849699</td>\n",
       "    </tr>\n",
       "    <tr>\n",
       "      <th>4</th>\n",
       "      <td>-9452.209187</td>\n",
       "      <td>29.529120</td>\n",
       "      <td>21.305177</td>\n",
       "      <td>9.604630</td>\n",
       "      <td>-6.000755</td>\n",
       "    </tr>\n",
       "    <tr>\n",
       "      <th>...</th>\n",
       "      <td>...</td>\n",
       "      <td>...</td>\n",
       "      <td>...</td>\n",
       "      <td>...</td>\n",
       "      <td>...</td>\n",
       "    </tr>\n",
       "    <tr>\n",
       "      <th>788548</th>\n",
       "      <td>8162.796666</td>\n",
       "      <td>-3.605847</td>\n",
       "      <td>-8.825965</td>\n",
       "      <td>-0.842984</td>\n",
       "      <td>-0.192800</td>\n",
       "    </tr>\n",
       "    <tr>\n",
       "      <th>788549</th>\n",
       "      <td>5896.796619</td>\n",
       "      <td>-3.697196</td>\n",
       "      <td>-9.069161</td>\n",
       "      <td>-0.726519</td>\n",
       "      <td>0.277450</td>\n",
       "    </tr>\n",
       "    <tr>\n",
       "      <th>788550</th>\n",
       "      <td>5465.796702</td>\n",
       "      <td>-3.718351</td>\n",
       "      <td>-9.090306</td>\n",
       "      <td>-1.172446</td>\n",
       "      <td>-0.202179</td>\n",
       "    </tr>\n",
       "    <tr>\n",
       "      <th>788551</th>\n",
       "      <td>9356.796656</td>\n",
       "      <td>-3.556303</td>\n",
       "      <td>-8.707196</td>\n",
       "      <td>-0.729408</td>\n",
       "      <td>-0.227849</td>\n",
       "    </tr>\n",
       "    <tr>\n",
       "      <th>788552</th>\n",
       "      <td>-9322.203114</td>\n",
       "      <td>-4.334589</td>\n",
       "      <td>-10.544031</td>\n",
       "      <td>-2.893793</td>\n",
       "      <td>-0.148685</td>\n",
       "    </tr>\n",
       "  </tbody>\n",
       "</table>\n",
       "<p>788553 rows × 5 columns</p>\n",
       "</div>"
      ],
      "text/plain": [
       "                   1          2          3          4         5\n",
       "0      -10260.207724  29.469094  20.718112  -2.044290  1.136570\n",
       "1       -9827.207345  29.487248  20.520595  -4.665327  0.072656\n",
       "2       -9809.209699  29.518942  21.534277  13.547727 -1.216789\n",
       "3       -9456.209600  29.537576  21.501721  12.752132  8.849699\n",
       "4       -9452.209187  29.529120  21.305177   9.604630 -6.000755\n",
       "...              ...        ...        ...        ...       ...\n",
       "788548   8162.796666  -3.605847  -8.825965  -0.842984 -0.192800\n",
       "788549   5896.796619  -3.697196  -9.069161  -0.726519  0.277450\n",
       "788550   5465.796702  -3.718351  -9.090306  -1.172446 -0.202179\n",
       "788551   9356.796656  -3.556303  -8.707196  -0.729408 -0.227849\n",
       "788552  -9322.203114  -4.334589 -10.544031  -2.893793 -0.148685\n",
       "\n",
       "[788553 rows x 5 columns]"
      ]
     },
     "execution_count": 12,
     "metadata": {},
     "output_type": "execute_result"
    }
   ],
   "source": [
    "## PCA 주성분 분석\n",
    "pca = PCA(n_components=5)\n",
    "printcipalComponents = pca.fit_transform(merge_x)\n",
    "principalDf = pd.DataFrame(data=printcipalComponents, columns = ['1', '2', '3', '4', '5'])\n",
    "principalDf"
   ]
  },
  {
   "cell_type": "markdown",
   "id": "1cdc381d",
   "metadata": {},
   "source": [
    "- 첫 주성분에서 99%의 분산을 설명하지만 한 차원으로 학습을 하기에 무리가 있어보여 기존 5개로 진행"
   ]
  },
  {
   "cell_type": "code",
   "execution_count": 13,
   "id": "b0b7942a",
   "metadata": {},
   "outputs": [
    {
     "name": "stdout",
     "output_type": "stream",
     "text": [
      "[9.99989112e-01 7.53213319e-06 2.18049348e-06 7.37853527e-07\n",
      " 1.30977326e-07]\n"
     ]
    }
   ],
   "source": [
    "# explained_variance_ratio_는 고유값이며 설명가능한 분산량을 의미한다.\n",
    "# 5개의 주성분으로 95% 이상 설명력을 가지는 것을 확인\n",
    "print(pca.explained_variance_ratio_)"
   ]
  },
  {
   "cell_type": "markdown",
   "id": "e4b6ce1e",
   "metadata": {},
   "source": [
    "# 3. 모델링"
   ]
  },
  {
   "cell_type": "code",
   "execution_count": 14,
   "id": "6e66f6a0",
   "metadata": {
    "scrolled": true
   },
   "outputs": [
    {
     "name": "stderr",
     "output_type": "stream",
     "text": [
      "C:\\Users\\GW\\anaconda3\\lib\\site-packages\\lightgbm\\engine.py:181: UserWarning: 'early_stopping_rounds' argument is deprecated and will be removed in a future release of LightGBM. Pass 'early_stopping()' callback via 'callbacks' argument instead.\n",
      "  _log_warning(\"'early_stopping_rounds' argument is deprecated and will be removed in a future release of LightGBM. \"\n",
      "C:\\Users\\GW\\anaconda3\\lib\\site-packages\\lightgbm\\engine.py:239: UserWarning: 'verbose_eval' argument is deprecated and will be removed in a future release of LightGBM. Pass 'log_evaluation()' callback via 'callbacks' argument instead.\n",
      "  _log_warning(\"'verbose_eval' argument is deprecated and will be removed in a future release of LightGBM. \"\n"
     ]
    },
    {
     "name": "stdout",
     "output_type": "stream",
     "text": [
      "[LightGBM] [Warning] Auto-choosing col-wise multi-threading, the overhead of testing was 0.005837 seconds.\n",
      "You can set `force_col_wise=true` to remove the overhead.\n",
      "[LightGBM] [Info] Total Bins 1275\n",
      "[LightGBM] [Info] Number of data points in the train set: 545673, number of used features: 5\n",
      "[LightGBM] [Info] Start training from score 1.019563\n",
      "Training until validation scores don't improve for 100 rounds\n",
      "[50]\tvalid_0's rmse: 0.401176\n",
      "[100]\tvalid_0's rmse: 0.377232\n",
      "[150]\tvalid_0's rmse: 0.363501\n",
      "[200]\tvalid_0's rmse: 0.356305\n",
      "[250]\tvalid_0's rmse: 0.349351\n",
      "[300]\tvalid_0's rmse: 0.344069\n",
      "[350]\tvalid_0's rmse: 0.339207\n",
      "[400]\tvalid_0's rmse: 0.336692\n",
      "[450]\tvalid_0's rmse: 0.335068\n",
      "[500]\tvalid_0's rmse: 0.333849\n",
      "[550]\tvalid_0's rmse: 0.333677\n",
      "[600]\tvalid_0's rmse: 0.333299\n",
      "[650]\tvalid_0's rmse: 0.333305\n",
      "[700]\tvalid_0's rmse: 0.3333\n",
      "[750]\tvalid_0's rmse: 0.333132\n",
      "[800]\tvalid_0's rmse: 0.333219\n",
      "[850]\tvalid_0's rmse: 0.333436\n",
      "Early stopping, best iteration is:\n",
      "[770]\tvalid_0's rmse: 0.333037\n"
     ]
    }
   ],
   "source": [
    "x_train, x_valid = principalDf.values[:-242880], principalDf.values[-242880:-214200]\n",
    "y_train, y_valid = merge_y[:-242880], merge_y[-242880:-214200]\n",
    "x_test = principalDf.values[-214200:]\n",
    "\n",
    "train_ds = lgb.Dataset(x_train,y_train) \n",
    "valid_ds = lgb.Dataset(x_valid,y_valid) \n",
    "\n",
    "params = {'learning_rate': 0.01, \n",
    "          'max_depth': 50, \n",
    "          'boosting': 'gbdt', \n",
    "          'objective': 'rmse', \n",
    "          'metric': 'rmse', \n",
    "          'is_training_metric': True, \n",
    "          'num_leaves': 600, \n",
    "          'feature_fraction': 0.9, \n",
    "          'bagging_fraction': 0.7, \n",
    "          'bagging_freq': 5,\n",
    "          'lambda_l1' :5,\n",
    "          'lambda_l2' : 10,\n",
    "          'seed':42}\n",
    "    \n",
    "model = lgb.train(params, train_ds, 5000, valid_ds, early_stopping_rounds=100, verbose_eval=50)"
   ]
  },
  {
   "cell_type": "markdown",
   "id": "9fbbe222",
   "metadata": {},
   "source": [
    "- 모델 예측 결과를 다음 데이터프레임에 입력하여 제출하였음. 결과 Score는 1.31835로 나옴."
   ]
  },
  {
   "cell_type": "code",
   "execution_count": 15,
   "id": "c1d8e515",
   "metadata": {},
   "outputs": [
    {
     "data": {
      "text/html": [
       "<div>\n",
       "<style scoped>\n",
       "    .dataframe tbody tr th:only-of-type {\n",
       "        vertical-align: middle;\n",
       "    }\n",
       "\n",
       "    .dataframe tbody tr th {\n",
       "        vertical-align: top;\n",
       "    }\n",
       "\n",
       "    .dataframe thead th {\n",
       "        text-align: right;\n",
       "    }\n",
       "</style>\n",
       "<table border=\"1\" class=\"dataframe\">\n",
       "  <thead>\n",
       "    <tr style=\"text-align: right;\">\n",
       "      <th></th>\n",
       "      <th>ID</th>\n",
       "      <th>item_cnt_month</th>\n",
       "    </tr>\n",
       "  </thead>\n",
       "  <tbody>\n",
       "    <tr>\n",
       "      <th>0</th>\n",
       "      <td>0</td>\n",
       "      <td>0.846637</td>\n",
       "    </tr>\n",
       "    <tr>\n",
       "      <th>1</th>\n",
       "      <td>1</td>\n",
       "      <td>0.810977</td>\n",
       "    </tr>\n",
       "    <tr>\n",
       "      <th>2</th>\n",
       "      <td>2</td>\n",
       "      <td>0.849618</td>\n",
       "    </tr>\n",
       "    <tr>\n",
       "      <th>3</th>\n",
       "      <td>3</td>\n",
       "      <td>0.915049</td>\n",
       "    </tr>\n",
       "    <tr>\n",
       "      <th>4</th>\n",
       "      <td>4</td>\n",
       "      <td>0.775672</td>\n",
       "    </tr>\n",
       "    <tr>\n",
       "      <th>...</th>\n",
       "      <td>...</td>\n",
       "      <td>...</td>\n",
       "    </tr>\n",
       "    <tr>\n",
       "      <th>214195</th>\n",
       "      <td>214195</td>\n",
       "      <td>0.723623</td>\n",
       "    </tr>\n",
       "    <tr>\n",
       "      <th>214196</th>\n",
       "      <td>214196</td>\n",
       "      <td>0.852511</td>\n",
       "    </tr>\n",
       "    <tr>\n",
       "      <th>214197</th>\n",
       "      <td>214197</td>\n",
       "      <td>0.730829</td>\n",
       "    </tr>\n",
       "    <tr>\n",
       "      <th>214198</th>\n",
       "      <td>214198</td>\n",
       "      <td>0.726474</td>\n",
       "    </tr>\n",
       "    <tr>\n",
       "      <th>214199</th>\n",
       "      <td>214199</td>\n",
       "      <td>0.760058</td>\n",
       "    </tr>\n",
       "  </tbody>\n",
       "</table>\n",
       "<p>214200 rows × 2 columns</p>\n",
       "</div>"
      ],
      "text/plain": [
       "            ID  item_cnt_month\n",
       "0            0        0.846637\n",
       "1            1        0.810977\n",
       "2            2        0.849618\n",
       "3            3        0.915049\n",
       "4            4        0.775672\n",
       "...        ...             ...\n",
       "214195  214195        0.723623\n",
       "214196  214196        0.852511\n",
       "214197  214197        0.730829\n",
       "214198  214198        0.726474\n",
       "214199  214199        0.760058\n",
       "\n",
       "[214200 rows x 2 columns]"
      ]
     },
     "execution_count": 15,
     "metadata": {},
     "output_type": "execute_result"
    }
   ],
   "source": [
    "pred = model.predict(x_test).clip(0,20)\n",
    "pred = pd.DataFrame(pred)\n",
    "pred.columns = ['item_cnt_month']\n",
    "temp = [i for i in range(0,214200,1)]\n",
    "pred['ID'] = temp\n",
    "pred = pred[['ID', 'item_cnt_month']]\n",
    "pred.to_csv('./robust_submission_true.csv', index=False)\n",
    "\n",
    "pred"
   ]
  },
  {
   "cell_type": "code",
   "execution_count": null,
   "id": "d6de86a5",
   "metadata": {},
   "outputs": [],
   "source": []
  }
 ],
 "metadata": {
  "kernelspec": {
   "display_name": "Python 3 (ipykernel)",
   "language": "python",
   "name": "python3"
  },
  "language_info": {
   "codemirror_mode": {
    "name": "ipython",
    "version": 3
   },
   "file_extension": ".py",
   "mimetype": "text/x-python",
   "name": "python",
   "nbconvert_exporter": "python",
   "pygments_lexer": "ipython3",
   "version": "3.9.7"
  }
 },
 "nbformat": 4,
 "nbformat_minor": 5
}
